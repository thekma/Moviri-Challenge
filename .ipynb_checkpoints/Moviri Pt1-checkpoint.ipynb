{
 "cells": [
  {
   "cell_type": "markdown",
   "metadata": {},
   "source": [
    "# Network Bit Rate divided by its Bandwidth\n",
    "Ken Ma"
   ]
  },
  {
   "cell_type": "code",
   "execution_count": 1,
   "metadata": {},
   "outputs": [],
   "source": [
    "with open('netbitrate.csv', newline='') as csvfile:\n",
    "    next(csvfile)\n",
    "    nlist = []\n",
    "    for row in csvfile:\n",
    "        nlist.append(row.splitlines()) #split netbitrate data into string row\n",
    "        \n",
    "with open('bandwidth.csv', newline='') as csvfile:\n",
    "    next(csvfile)\n",
    "    bdict = {}\n",
    "    r = 0\n",
    "    for row in csvfile:\n",
    "        for i in row.split(\",\"):\n",
    "            if \"server\" in i:\n",
    "                head = i #if server then the server is key name\n",
    "            else:\n",
    "                bdict.setdefault(head,[]).append(i.splitlines()) #if not server, then other values are just value(s)"
   ]
  },
  {
   "cell_type": "code",
   "execution_count": 3,
   "metadata": {},
   "outputs": [
    {
     "name": "stdout",
     "output_type": "stream",
     "text": [
      "2019-05-07 19:17:23 server1 eth0 50.0\n",
      "2019-03-30 19:41:33 server4 eth0 1.25\n",
      "2019-06-18 07:38:11 server1 eth0 5.0\n",
      "2019-03-08 08:29:38 server3 eth1 8.0\n",
      "2019-04-21 04:50:41 server3 eth1 50.0\n",
      "2019-04-06 06:28:31 server4 eth0 4.125\n",
      "2019-05-02 08:33:40 server1 eth1 25.0\n",
      "2019-06-06 06:02:10 server2 eth0 12.5\n",
      "2019-02-28 20:16:54 server4 eth0 6.25\n",
      "2019-04-05 23:57:00 server2 eth0 6.25\n",
      "2019-04-21 23:31:19 server1 eth0 20.0\n",
      "2019-06-24 09:49:58 server3 eth1 8.0\n",
      "2019-04-04 10:34:24 server1 eth1 25.0\n",
      "2019-06-14 15:13:36 server2 eth0 8.25\n",
      "2019-02-13 19:19:49 server4 eth0 5.0\n",
      "2019-02-03 19:03:03 server4 eth0 6.25\n",
      "2019-01-07 00:49:05 server3 eth1 10.0\n",
      "2019-05-08 13:14:21 server1 eth0 25.0\n",
      "2019-03-23 23:36:03 server1 eth1 2.5\n",
      "2019-02-06 14:44:09 server2 eth0 1.25\n"
     ]
    }
   ],
   "source": [
    "cbandwidth = 0 #sets current bandwidth (0, so nothing is there yet)\n",
    "for n in nlist:\n",
    "    for n_strip in n:\n",
    "        n_strip = n_strip.replace(\" \", \",\") #replacing space for comma to able to loop through each part\n",
    "        for ns_part in n_strip.split(','): #loop through each part to actually determine specific part\n",
    "            if \"server\" in ns_part:\n",
    "                currentserver = ns_part #setting the correct server that corresponds to currentserver\n",
    "            if \"eth\" in ns_part:\n",
    "                ethn = ns_part #eth number is determined and recorded\n",
    "                for bkey in bdict.keys():\n",
    "                    if currentserver == bkey:\n",
    "                        for bvalue in bdict[bkey]:\n",
    "                            if cbandwidth == 1: #if there is a current bandwidth then 1 will indicate that\n",
    "                                bandw = bvalue #the bandwidth value is recorded as the bandwidth [needed]\n",
    "                                cbandwidth = 0 #set back as 0 for the next value\n",
    "                            if ethn in bvalue:\n",
    "                                cbandwidth = 1 if ns_part in bvalue else 0 #correct eth number, mark bandwidth as 1\n",
    "            if n_strip.split(',').index(ns_part) == 4:\n",
    "                nbrb = float(ns_part)/float(bandw[0]) #dividing to get the net bitrate over bandwidth # (nbrb)\n",
    "                newnv = n_strip.replace(ns_part, str(nbrb)) #replace the netbitrate with the nbrb\n",
    "                print(newnv.replace(\",\", \" \")) #rids commas in string data"
   ]
  }
 ],
 "metadata": {
  "kernelspec": {
   "display_name": "Python 3",
   "language": "python",
   "name": "python3"
  },
  "language_info": {
   "codemirror_mode": {
    "name": "ipython",
    "version": 3
   },
   "file_extension": ".py",
   "mimetype": "text/x-python",
   "name": "python",
   "nbconvert_exporter": "python",
   "pygments_lexer": "ipython3",
   "version": "3.7.4"
  }
 },
 "nbformat": 4,
 "nbformat_minor": 2
}
